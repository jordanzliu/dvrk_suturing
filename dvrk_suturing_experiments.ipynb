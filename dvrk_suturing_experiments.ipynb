{
 "cells": [
  {
   "cell_type": "code",
   "execution_count": null,
   "metadata": {},
   "outputs": [],
   "source": [
    "%load_ext autoreload\n",
    "%autoreload \n",
    "\n",
    "import sys\n",
    "sys.version\n",
    "# sys.path.append('/usr/lib/python2.7')\n",
    "# sys.path.append('/home/fizzer/catkin_ws/src/dvrk-ros/dvrk_python/src')\n",
    "# sys.path.append('/home/fizzer/auto_cam_ws/devel/lib/python2.7/dist-packages')\n",
    "# sys.path.append('/home/fizzer/catkin_ws/devel/lib/python2.7/dist-packages')\n",
    "# sys.path"
   ]
  },
  {
   "cell_type": "code",
   "execution_count": null,
   "metadata": {},
   "outputs": [],
   "source": [
    "import jupyros as jr\n",
    "import rospy\n",
    "import numpy as np\n",
    "from sensor_msgs import msg\n",
    "import cv2\n",
    "import cv_bridge\n",
    "from copy import deepcopy\n",
    "import ipywidgets as widgets\n",
    "import PIL.Image\n",
    "import matplotlib.pyplot as plt\n",
    "import dvrk\n",
    "import PyKDL\n",
    "import tf\n",
    "import time\n",
    "from tf_conversions import posemath\n",
    "import utils\n",
    "\n",
    "from __future__ import print_function\n",
    "from ipywidgets import interact, interactive, fixed, interact_manual\n",
    "import ipywidgets as widgets"
   ]
  },
  {
   "cell_type": "code",
   "execution_count": null,
   "metadata": {},
   "outputs": [],
   "source": [
    "rospy.init_node('notebook')\n",
    "rospy.get_published_topics()"
   ]
  },
  {
   "cell_type": "code",
   "execution_count": null,
   "metadata": {},
   "outputs": [],
   "source": [
    "bridge = cv_bridge.CvBridge()\n",
    "left_image = None\n",
    "left_image_msg = None\n",
    "left_camera_info = None\n",
    "\n",
    "right_image = None\n",
    "right_image_msg = None\n",
    "right_camera_info = None\n",
    "\n",
    "def left_image_callback(im_msg):\n",
    "    global left_image, left_image_msg\n",
    "    left_image = bridge.imgmsg_to_cv2(im_msg, desired_encoding='rgb8')\n",
    "    left_image_msg = im_msg\n",
    "    \n",
    "def right_image_callback(im_msg):\n",
    "    global right_image, right_image_msg\n",
    "    right_image = bridge.imgmsg_to_cv2(im_msg, desired_encoding='rgb8')\n",
    "    right_image_msg = im_msg\n",
    "    \n",
    "def left_camera_info_callback(camera_info_msg):\n",
    "    global left_camera_info\n",
    "    left_camera_info = camera_info_msg\n",
    "    \n",
    "def right_camera_info_callback(camera_info_msg):\n",
    "    global right_camera_info\n",
    "    right_camera_info = camera_info_msg\n",
    "    \n",
    "jr.subscribe('/stereo/left/image_raw', msg.Image, left_image_callback)\n",
    "jr.subscribe('/stereo/left/camera_info', msg.CameraInfo, left_camera_info_callback)\n",
    "jr.subscribe('/stereo/right/image_raw', msg.Image, right_image_callback)\n",
    "jr.subscribe('/stereo/right/camera_info', msg.CameraInfo, right_camera_info_callback)\n",
    "\n",
    "while left_image is None or right_image is None:\n",
    "    if left_image is None:\n",
    "        print(\"left image not receieved\")\n",
    "    if right_image is None:\n",
    "        print(\"right image not receieved\")\n",
    "    time.sleep(0.5)"
   ]
  },
  {
   "cell_type": "code",
   "execution_count": null,
   "metadata": {},
   "outputs": [],
   "source": [
    "plt.imshow(np.hstack((left_image, right_image)))"
   ]
  },
  {
   "cell_type": "code",
   "execution_count": null,
   "metadata": {},
   "outputs": [],
   "source": [
    "tf_listener = tf.TransformListener()\n",
    "time.sleep(1)\n",
    "tf_listener.getFrameStrings()"
   ]
  },
  {
   "cell_type": "code",
   "execution_count": null,
   "metadata": {},
   "outputs": [],
   "source": [
    "psm1 = dvrk.psm('PSM1')\n",
    "psm2 = dvrk.psm('PSM2')\n",
    "psm3 = dvrk.psm('PSM3')\n",
    "ecm = dvrk.ecm('ECM')\n",
    "\n",
    "psm1_suj = dvrk.suj('PSM2') #temp bypass to wrong suj matching betw psm1 and 2\n",
    "psm2_suj = dvrk.suj('PSM1') #temp bypass to wrong suj matching betw psm1 and 2\n",
    "psm3_suj = dvrk.suj('PSM3')\n",
    "ecm_suj = dvrk.suj('ECM')\n",
    "\n",
    "while ecm.get_current_position() == PyKDL.Frame() or ecm.get_desired_position() == PyKDL.Frame():\n",
    "    time.sleep(0.5)\n",
    "while psm1.get_current_position() == PyKDL.Frame() or psm1.get_desired_position() == PyKDL.Frame():\n",
    "    time.sleep(0.5)"
   ]
  },
  {
   "cell_type": "code",
   "execution_count": null,
   "metadata": {},
   "outputs": [],
   "source": [
    "from math import radians as r\n",
    "\n",
    "#ECM_STARTING_JOINT_POS = np.asarray([-0.15669435,  0.17855662,  0.07069676,  0.17411496])\n",
    "#ECM_STARTING_JOINT_POS = np.asarray([0.0615668 , 0.0523214 , 0.04854392, 0.15809197])\n",
    "\n",
    "#one i chose - ECM_STARTING_JOINT_POS = np.asarray([-0.34478268, -0.1093848 ,  0.03261061,  0.143541  ])\n",
    "\n",
    "#ECM_STARTING_JOINT_POS = np.asarray([-0.1, 0, 0,  0.03541  ])\n",
    "#ECM_STARTING_JOINT_POS = np.asarray([0.8,0.3,0.48,-0.95])\n",
    "\n",
    "#this value gave current ecm positions - (-22.918, -2.865, 80, -3.438) - need to ensure no need to offset ecm with direct control first\n",
    "\n",
    "#ECM_STARTING_JOINT_POS = np.asarray([-0.4, -0.0 ,  0.05,  -0. ])\n",
    "\n",
    "ECM_STARTING_JOINT_POS = np.asarray([0., -0.1 ,  0.05,  0.13541  ])\n",
    "ecm.move_joint(ECM_STARTING_JOINT_POS)\n",
    "\n",
    "# sm3 = [0.1, r(165), r(-60),r(-58), r(-11)]\n",
    "# psm3_suj.move_joint(np.asarray(sm3))"
   ]
  },
  {
   "cell_type": "code",
   "execution_count": null,
   "metadata": {},
   "outputs": [],
   "source": [
    "from math import radians as r\n",
    "\n",
    "# sm1 = [0.5, -2.4958207607269287, 2.775073528289795, 0.13962633907794952, -0.5235987901687622]\n",
    "# sm2 = [0.5, 2.6005406379699707, -2.7227137088775635, -0.20943951606750488, -0.7155849933624268]\n",
    "# sm3 = [0.5, 2.3212878704071045, -1.378810167312622, -1.5707963705062866, -0.8901179432868958]\n",
    "# cm = [1.0, -1.2042771577835083, 2.687807083129883, -1.4311699867248535]\n",
    "\n",
    "# sm2 =  [0.5, 2.583087205886841, -2.7925267219543457, -0.10471975803375244, -0.6108652353286743]\n",
    "# sm3 = [0.5, 2.2165682315826416, -1.4486232995986938, -1.5707963705062866, -1.0122909545898438]\n",
    "\n",
    "sm1 = [0.5, -2.4958207607269287, 2.775073528289795, 0.13962633907794952, -0.5235987901687622]\n",
    "# sm2 = [0.5, 2.6005406379699707, -2.7227137088775635, -0.20943951606750488, -0.7155849933624268]\n",
    "# sm3 = [0.5, 2.3212878704071045, -1.378810167312622, -1.5707963705062866, -0.8901179432868958]\n",
    "cm = [0.6, -1.2042771577835083, 2.687807083129883, -0.311699867248535]\n",
    "#arm 2 and 3 having collisions still\n",
    "# sm2 =  [0.5, 2.583087205886841, -2.7925267219543457, -0.10471975803375244, -0.6108652353286743]\n",
    "# sm3 = [0.5, 2.2165682315826416, -1.4486232995986938, -1.5707963705062866, -0.90122909545898438]\n",
    "\n",
    "#new parameters with no collision!!!\n",
    "sm2 =  [0.5, r(111), r(-105), r(-55), r(-7)]\n",
    "#sm3 = [0.09, r(93), r(82),r(-124), r(-2)]\n",
    "sm3 = [r(0.1), r(145), r(-25), r(-80), r(-28), r(0)]\n",
    "\n",
    "#psm1_suj.move_joint(np.asarray(sm2))\n",
    "#psm2_suj.move_joint(np.asarray(sm1))\n",
    "psm3_suj.move_joint(np.asarray(sm3))\n",
    "#ecm_suj.move_joint(np.asarray(cm))\n",
    "\n",
    "print(psm1_suj.get_current_joint_position())\n",
    "print(psm2_suj.get_current_joint_position())\n",
    "#print(psm3_suj.get_current_joint_position())\n",
    "print(ecm_suj.get_current_joint_position())\n",
    "print('----------------------------------')\n",
    "print(psm1_suj.get_current_position())\n",
    "print(psm2_suj.get_current_position())\n",
    "#print(psm3_suj.get_current_position())\n",
    "print(ecm_suj.get_current_position())"
   ]
  },
  {
   "cell_type": "code",
   "execution_count": null,
   "metadata": {},
   "outputs": [],
   "source": [
    "def move_psm1_suj(a, b, c, d, e, f):\n",
    "    psm1_suj.move_joint(np.asarray([a, r(b), r(c), r(d), r(e), r(f)]))\n",
    "interact(move_psm1_suj, a=(0.0,1.0), b=(-180,180), c=(-180,180), d=(-180,180), e=(-180,180), f=(-180,180));"
   ]
  },
  {
   "cell_type": "code",
   "execution_count": null,
   "metadata": {
    "scrolled": true
   },
   "outputs": [],
   "source": [
    "def move_psm2_suj(a, b, c, d, e, f):\n",
    "    psm2_suj.move_joint(np.asarray([a, r(b), c, r(d), r(e), r(f)]))\n",
    "interact(move_psm2_suj, a=(0.0,1.0), b=(-180,180), c=(-180,180), d=(-180,180), e=(-180,180), f=(-180,180));"
   ]
  },
  {
   "cell_type": "code",
   "execution_count": null,
   "metadata": {},
   "outputs": [],
   "source": [
    "from math import radians as r\n",
    "\n",
    "def move_psm3_suj(a, b, c, d, e, f):\n",
    "    psm3_suj.move_joint(np.asarray([a, r(b), r(c), r(d), r(e), r(f)]))\n",
    "interact(move_psm3_suj, a=(0.0,1.0), b=(-180,180), c=(-180,180), d=(-180,180), e=(-180,180), f=(-180,180))\n"
   ]
  },
  {
   "cell_type": "code",
   "execution_count": null,
   "metadata": {},
   "outputs": [],
   "source": [
    "from math import radians as r\n",
    "\n",
    "def move_ecm_suj(a, b, c, d, e, f):\n",
    "    ecm_suj.move_joint(np.asarray([a, b, c, d, e, f]))\n",
    "interact(move_ecm_suj, a=(0.0,1.0), b=(0.0,1.0), c=(-1.0,1.0), d=(0.0,1.0), e=(0.0, 1.0), f=(0.0,1.0));"
   ]
  },
  {
   "cell_type": "code",
   "execution_count": null,
   "metadata": {},
   "outputs": [],
   "source": [
    "time.sleep(1)\n",
    "#array position A B C D E-claw orientation, F-claw orientation\n",
    "# PSM_HOME_POS = np.asarray([0., 0.5, 0.5, 0.1, 0., 0.])\n",
    "\n",
    "#third value to change height of the needle - cannula\n",
    "PSM_HOME_POS = np.asarray([0., 0., 0.05, 0., 0., 0.])\n",
    "psm1.move_joint(PSM_HOME_POS)\n",
    "psm1.close_jaw()\n",
    "\n",
    "psm2.move_joint(PSM_HOME_POS)\n",
    "psm2.close_jaw()\n",
    "\n",
    "#moving cannula to adjust PSM3 SUJ height offset\n",
    "#PSM_HOME_POS3 = np.asarray([0., 0., 0.15, 0., 0., 0.])\n",
    "psm3.move_joint(PSM_HOME_POS)\n",
    "psm3.close_jaw()"
   ]
  },
  {
   "cell_type": "code",
   "execution_count": null,
   "metadata": {},
   "outputs": [],
   "source": [
    "import image_geometry\n",
    "utils = None\n",
    "import utils\n",
    "stereo_model = image_geometry.StereoCameraModel()\n",
    "stereo_model.fromCameraInfo(left_camera_info, right_camera_info)\n",
    "\n",
    "tf_cam_to_world = utils.tf_to_pykdl_frame(tf_listener.lookupTransform('simworld', 'simcamera', rospy.Time()))\n",
    "tf_world_to_psm1 = \\\n",
    "    utils.tf_to_pykdl_frame(tf_listener.lookupTransform('PSM1_base', 'simworld', rospy.Time()))\n",
    "tf_world_to_psm2 = \\\n",
    "   utils.tf_to_pykdl_frame(tf_listener.lookupTransform('PSM2_base', 'simworld', rospy.Time()))\n",
    "tf_world_to_psm3 = \\\n",
    "   utils.tf_to_pykdl_frame(tf_listener.lookupTransform('PSM3_base', 'simworld', rospy.Time()))\n",
    "\n",
    "objects, frame = utils.get_points_and_img(left_image_msg, right_image_msg, stereo_model, tf_cam_to_world)\n",
    "plt.figure(figsize=(12, 5))\n",
    "plt.imshow(frame)\n",
    "for o in objects:\n",
    "    o = PyKDL.Vector(o.x(), o.y(), o.z())\n",
    "#     o = PyKDL.Vector(o.x(), o.y(), o.z())"
   ]
  },
  {
   "cell_type": "code",
   "execution_count": null,
   "metadata": {},
   "outputs": [],
   "source": [
    "len(objects)"
   ]
  },
  {
   "cell_type": "code",
   "execution_count": null,
   "metadata": {},
   "outputs": [],
   "source": [
    "# pair up points that are across from each other\n",
    "# x is *more or less* the axis along the wound\n",
    "paired_pts = []\n",
    "while objects:\n",
    "    pt = objects[0]\n",
    "    objects.remove(pt)\n",
    "#     pt2 = min(objects, key=lambda obj : abs(obj.x() - pt.x()))\n",
    "    pt2 = min(objects, key=lambda obj : abs(obj.y() - pt.y()))\n",
    "    objects.remove(pt2)\n",
    "#     paired_pts.append(\n",
    "#         (max(pt, pt2, key=lambda p: p.y()), min(pt, pt2, key=lambda p: p.y())))\n",
    "    paired_pts.append(\n",
    "        (max(pt, pt2, key=lambda p: p.x()), min(pt, pt2, key=lambda p: p.x())))\n",
    "# print(paired_pts)\n",
    "z_val = paired_pts[0][0][2]\n",
    "print(len(paired_pts)*2-1)\n",
    "for i in range(len(paired_pts)):\n",
    "    paired_pts[i][0][2] = z_val\n",
    "    paired_pts[i][1][2] = z_val\n",
    "    \n",
    "print(paired_pts[0][0][1])\n",
    "print(paired_pts[1][0][1])\n",
    "paired_pts = sorted(paired_pts,key=lambda p: float(p[0][1]))\n",
    "print(\"paired points sorted:\")\n",
    "paired_pts"
   ]
  },
  {
   "cell_type": "code",
   "execution_count": null,
   "metadata": {
    "scrolled": false
   },
   "outputs": [],
   "source": [
    "import suturing_state_machine\n",
    "# from importlib import reload\n",
    "reload(suturing_state_machine)\n",
    "reload(utils)\n",
    "import time\n",
    "\n",
    "pts_psm1 = paired_pts[:2]\n",
    "pts_psm2 = paired_pts[4:]\n",
    "pts_psm3 = paired_pts[2:4]\n",
    "\n",
    "# pts_psm1 = paired_pts[3:6]\n",
    "# pts_psm3 = paired_pts[2:4]\n",
    "#pts_psm2 = paired_pts[3:6]\n",
    "\n",
    "# double PSM same dir\n",
    "# sm1 = suturing_state_machine.SuturingStateMachine(psm1, tf_world_to_psm1, pts_psm1, arm_name = 'PSM1')  \n",
    "# sm2 = suturing_state_machine.SuturingStateMachine(psm2, tf_world_to_psm2, pts_psm2, arm_name = 'PSM2')\n",
    "\n",
    "# start_time = time.clock()\n",
    "# while not sm1.is_done() or not sm2.is_done():\n",
    "#     sm1.run_once()\n",
    "#     sm2.run_once()\n",
    "#     time.sleep(0.1)\n",
    "    \n",
    "# completion_time = time.clock() - start_time\n",
    "# print(\"completion time(s): \",completion_time)\n",
    "\n",
    "# single PSM \n",
    "# pts_psm2 = paired_pts\n",
    "\n",
    "# sm2 = suturing_state_machine.SuturingStateMachine(psm2, tf_world_to_psm2, pts_psm2, arm_name = 'PSM2')\n",
    "\n",
    "# start_time = time.clock()\n",
    "# while not sm2.is_done():\n",
    "#     sm2.run_once()\n",
    "#     time.sleep(0.1)\n",
    "    \n",
    "# completion_time = time.clock() - start_time\n",
    "# print(\"completion time(s): \",completion_time)\n",
    "\n",
    "# double PSM opposite dir\n",
    "pts_psm1 = []\n",
    "sm1 = suturing_state_machine.SuturingStateMachine(psm1, tf_world_to_psm1, pts_psm1, arm_name = 'PSM2')  \n",
    "sm2 = suturing_state_machine.SuturingStateMachine(psm2, tf_world_to_psm2, pts_psm2, arm_name = 'PSM2')\n",
    "sm3 = suturing_state_machine.SuturingStateMachine(psm3, tf_world_to_psm3, pts_psm3, arm_name = 'PSM2')\n",
    "\n",
    "# for sublist in (paired_pts[:2]):\n",
    "#     pts_psm1.append(sublist[::-1])\n",
    "    \n",
    "start_time = time.clock()\n",
    "print(\"pts_psm1:\", pts_psm1)\n",
    "#print(\"pts_psm2:\", pts_psm2)\n",
    "# print(\"pts_psm3:\", pts_psm3)\n",
    "\n",
    "while not sm1.is_done() or not sm2.is_done() or not sm3.is_done():\n",
    "#     if not sm1.is_done():\n",
    "    sm1.run_once()\n",
    "    sm2.run_once()\n",
    "    sm3.run_once()\n",
    "    #sm3.run_once()\n",
    "#     if not sm2.is_done():\n",
    "#         sm2.run_once()\n",
    "#     if not sm3.is_done():\n",
    "#         sm3.run_once()\n",
    "    time.sleep(0.1)\n",
    "\n",
    "completion_time = time.clock() - start_time\n",
    "print(\"completion time(s): \",completion_time)"
   ]
  },
  {
   "cell_type": "code",
   "execution_count": null,
   "metadata": {},
   "outputs": [],
   "source": [
    "dir(psm1)"
   ]
  },
  {
   "cell_type": "code",
   "execution_count": null,
   "metadata": {},
   "outputs": [],
   "source": [
    "ecm.get_current_joint_position()"
   ]
  },
  {
   "cell_type": "code",
   "execution_count": null,
   "metadata": {},
   "outputs": [],
   "source": [
    "psm2.close_jaw()"
   ]
  },
  {
   "cell_type": "code",
   "execution_count": null,
   "metadata": {},
   "outputs": [],
   "source": []
  },
  {
   "cell_type": "code",
   "execution_count": null,
   "metadata": {},
   "outputs": [],
   "source": []
  }
 ],
 "metadata": {
  "jupytext": {
   "text_representation": {
    "extension": ".py",
    "format_name": "light",
    "format_version": "1.5",
    "jupytext_version": "1.4.2"
   }
  },
  "kernelspec": {
   "display_name": "Python 2",
   "language": "python2",
   "name": "python2"
  },
  "language_info": {
   "codemirror_mode": {
    "name": "ipython",
    "version": 2
   },
   "file_extension": ".py",
   "mimetype": "text/x-python",
   "name": "python",
   "nbconvert_exporter": "python",
   "pygments_lexer": "ipython2",
   "version": "2.7.17"
  }
 },
 "nbformat": 4,
 "nbformat_minor": 2
}
