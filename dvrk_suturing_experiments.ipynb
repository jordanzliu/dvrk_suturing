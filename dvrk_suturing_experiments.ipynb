{
 "cells": [
  {
   "cell_type": "code",
   "execution_count": null,
   "metadata": {},
   "outputs": [],
   "source": [
    "import jupyros as jr\n",
    "import rospy\n",
    "import numpy as np\n",
    "from sensor_msgs import msg\n",
    "import cv2\n",
    "import cv_bridge\n",
    "from copy import deepcopy\n",
    "import ipywidgets as widgets\n",
    "import PIL.Image\n",
    "from cStringIO import StringIO\n",
    "import matplotlib.pyplot as plt\n",
    "import dvrk\n",
    "import PyKDL\n",
    "import tf\n",
    "import time\n",
    "from tf_conversions import posemath\n",
    "import utils"
   ]
  },
  {
   "cell_type": "code",
   "execution_count": null,
   "metadata": {},
   "outputs": [],
   "source": [
    "rospy.init_node('notebook')\n",
    "rospy.get_published_topics()"
   ]
  },
  {
   "cell_type": "code",
   "execution_count": null,
   "metadata": {},
   "outputs": [],
   "source": [
    "bridge = cv_bridge.CvBridge()\n",
    "left_image = None\n",
    "left_image_msg = None\n",
    "left_camera_info = None\n",
    "\n",
    "right_image = None\n",
    "right_image_msg = None\n",
    "right_camera_info = None\n",
    "\n",
    "def left_image_callback(im_msg):\n",
    "    global left_image, left_image_msg\n",
    "    left_image = bridge.imgmsg_to_cv2(im_msg, desired_encoding='rgb8')\n",
    "    left_image_msg = im_msg\n",
    "    \n",
    "def right_image_callback(im_msg):\n",
    "    global right_image, right_image_msg\n",
    "    right_image = bridge.imgmsg_to_cv2(im_msg, desired_encoding='rgb8')\n",
    "    right_image_msg = im_msg\n",
    "    \n",
    "def left_camera_info_callback(camera_info_msg):\n",
    "    global left_camera_info\n",
    "    left_camera_info = camera_info_msg\n",
    "    \n",
    "def right_camera_info_callback(camera_info_msg):\n",
    "    global right_camera_info\n",
    "    right_camera_info = camera_info_msg\n",
    "    \n",
    "jr.subscribe('/stereo/left/image_raw', msg.Image, left_image_callback)\n",
    "jr.subscribe('/stereo/left/camera_info', msg.CameraInfo, left_camera_info_callback)\n",
    "jr.subscribe('/stereo/right/image_raw', msg.Image, right_image_callback)\n",
    "jr.subscribe('/stereo/right/camera_info', msg.CameraInfo, right_camera_info_callback)\n",
    "\n",
    "while left_image is None or right_image is None:\n",
    "    time.sleep(0.5)"
   ]
  },
  {
   "cell_type": "code",
   "execution_count": null,
   "metadata": {},
   "outputs": [],
   "source": [
    "plt.imshow(np.hstack((left_image, right_image)))"
   ]
  },
  {
   "cell_type": "code",
   "execution_count": null,
   "metadata": {},
   "outputs": [],
   "source": [
    "tf_listener = tf.TransformListener()\n",
    "time.sleep(1)\n",
    "tf_listener.getFrameStrings()"
   ]
  },
  {
   "cell_type": "code",
   "execution_count": null,
   "metadata": {},
   "outputs": [],
   "source": [
    "psm1 = dvrk.psm('PSM1')\n",
    "psm2 = dvrk.psm('PSM2')\n",
    "ecm = dvrk.ecm('ECM')\n",
    "while ecm.get_current_position() == PyKDL.Frame() or ecm.get_desired_position() == PyKDL.Frame():\n",
    "    time.sleep(0.5)\n",
    "while psm1.get_current_position() == PyKDL.Frame() or psm1.get_desired_position() == PyKDL.Frame():\n",
    "    time.sleep(0.5)"
   ]
  },
  {
   "cell_type": "code",
   "execution_count": null,
   "metadata": {},
   "outputs": [],
   "source": [
    "ECM_STARTING_JOINT_POS = np.asarray([-0.15669435,  0.17855662,  0.07069676,  0.17411496])\n",
    "# ECM_STARTING_JOINT_POS = np.asarray([0.0615668 , 0.0523214 , 0.04854392, 0.15809197])\n",
    "# ecm.move_joint(ECM_STARTING_JOINT_POS)"
   ]
  },
  {
   "cell_type": "code",
   "execution_count": null,
   "metadata": {},
   "outputs": [],
   "source": [
    "time.sleep(1)\n",
    "PSM_HOME_POS = np.asarray([0., 0., 0.05, 0., 0., 0.])\n",
    "psm1.move_joint(PSM_HOME_POS)\n",
    "psm1.close_jaw()\n",
    "\n",
    "psm2.move_joint(PSM_HOME_POS)\n",
    "psm2.close_jaw()"
   ]
  },
  {
   "cell_type": "code",
   "execution_count": null,
   "metadata": {},
   "outputs": [],
   "source": [
    "import image_geometry\n",
    "utils = None\n",
    "import utils\n",
    "stereo_model = image_geometry.StereoCameraModel()\n",
    "stereo_model.fromCameraInfo(left_camera_info, right_camera_info)\n",
    "\n",
    "tf_cam_to_world = utils.tf_to_pykdl_frame(tf_listener.lookupTransform('simworld', 'simcamera', rospy.Time()))\n",
    "tf_world_to_psm1 = \\\n",
    "    utils.PSM_J1_TO_BASE_LINK_TF * utils.tf_to_pykdl_frame(tf_listener.lookupTransform('J1_PSM1', 'simworld', rospy.Time()))\n",
    "tf_world_to_psm2 = \\\n",
    "    utils.PSM_J1_TO_BASE_LINK_TF * utils.tf_to_pykdl_frame(tf_listener.lookupTransform('J1_PSM2', 'simworld', rospy.Time()))\n",
    "\n",
    "objects, frame = utils.get_points_and_img(left_image_msg, right_image_msg, stereo_model, tf_cam_to_world)\n",
    "plt.figure(figsize=(12, 5))\n",
    "plt.imshow(frame)\n",
    "for o in objects:\n",
    "    o = PyKDL.Vector(o.x(), o.y(), o.z() - 0.005)"
   ]
  },
  {
   "cell_type": "code",
   "execution_count": null,
   "metadata": {},
   "outputs": [],
   "source": [
    "objects"
   ]
  },
  {
   "cell_type": "code",
   "execution_count": null,
   "metadata": {},
   "outputs": [],
   "source": [
    "# pair up points that are across from each other\n",
    "# x is *more or less* the axis along the wound\n",
    "paired_pts = []\n",
    "for pt in objects:\n",
    "    objects.remove(pt)\n",
    "    pt2 = min(objects, key=lambda obj : abs(obj.x() - pt.x()))\n",
    "    objects.remove(pt2)\n",
    "    paired_pts.append(\n",
    "        (max(pt, pt2, key=lambda p: p.y()), min(pt, pt2, key=lambda p: p.y())))\n",
    "paired_pts"
   ]
  },
  {
   "cell_type": "code",
   "execution_count": null,
   "metadata": {},
   "outputs": [],
   "source": [
    "import suturing_state_machine\n",
    "reload(suturing_state_machine)\n",
    "reload(utils)\n",
    "\n",
    "sm1 = suturing_state_machine.SuturingStateMachine(psm1, tf_world_to_psm1, paired_pts[:2])  \n",
    "sm2 = suturing_state_machine.SuturingStateMachine(psm2, tf_world_to_psm2, paired_pts[2:])\n",
    "\n",
    "while not sm1.is_done() or not sm2.is_done():\n",
    "    sm1.run_once()\n",
    "    sm2.run_once()\n",
    "    time.sleep(0.1)"
   ]
  },
  {
   "cell_type": "code",
   "execution_count": null,
   "metadata": {},
   "outputs": [],
   "source": [
    "dir(psm1)"
   ]
  },
  {
   "cell_type": "code",
   "execution_count": null,
   "metadata": {},
   "outputs": [],
   "source": [
    "ecm.get_current_joint_position()"
   ]
  },
  {
   "cell_type": "code",
   "execution_count": null,
   "metadata": {},
   "outputs": [],
   "source": [
    "psm2.close_jaw()"
   ]
  },
  {
   "cell_type": "code",
   "execution_count": null,
   "metadata": {},
   "outputs": [],
   "source": []
  }
 ],
 "metadata": {
  "jupytext": {
   "text_representation": {
    "extension": ".py",
    "format_name": "light",
    "format_version": "1.5",
    "jupytext_version": "1.4.2"
   }
  },
  "kernelspec": {
   "display_name": "Python 2",
   "language": "python",
   "name": "python2"
  },
  "language_info": {
   "codemirror_mode": {
    "name": "ipython",
    "version": 2
   },
   "file_extension": ".py",
   "mimetype": "text/x-python",
   "name": "python",
   "nbconvert_exporter": "python",
   "pygments_lexer": "ipython2",
   "version": "2.7.17"
  }
 },
 "nbformat": 4,
 "nbformat_minor": 2
}
